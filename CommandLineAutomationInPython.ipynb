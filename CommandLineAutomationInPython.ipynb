{
  "nbformat": 4,
  "nbformat_minor": 0,
  "metadata": {
    "colab": {
      "provenance": [],
      "authorship_tag": "ABX9TyN9qrmtOAT0yTWBLudhT68E",
      "include_colab_link": true
    },
    "kernelspec": {
      "name": "python3",
      "display_name": "Python 3"
    },
    "language_info": {
      "name": "python"
    }
  },
  "cells": [
    {
      "cell_type": "markdown",
      "metadata": {
        "id": "view-in-github",
        "colab_type": "text"
      },
      "source": [
        "<a href=\"https://colab.research.google.com/github/punkmic/Command-Line-Automation-in-Python/blob/master/CommandLineAutomationInPython.ipynb\" target=\"_parent\"><img src=\"https://colab.research.google.com/assets/colab-badge.svg\" alt=\"Open In Colab\"/></a>"
      ]
    },
    {
      "cell_type": "code",
      "execution_count": 1,
      "metadata": {
        "colab": {
          "base_uri": "https://localhost:8080/"
        },
        "id": "xSCYzGND8xcD",
        "outputId": "cef27ab6-a4d7-40cc-8376-4bf1b35a07b5"
      },
      "outputs": [
        {
          "output_type": "stream",
          "name": "stdout",
          "text": [
            "Hello\n"
          ]
        }
      ],
      "source": [
        "!echo \"Hello\""
      ]
    },
    {
      "cell_type": "markdown",
      "source": [
        "### Running a code block and saving the output to a variable\n",
        "\n"
      ],
      "metadata": {
        "id": "MXAYGdoh9K0V"
      }
    },
    {
      "cell_type": "code",
      "source": [
        "%%bash --out output\n",
        "ls -l */*.csv | wc -l"
      ],
      "metadata": {
        "id": "-2NLXZo888a5"
      },
      "execution_count": 3,
      "outputs": []
    },
    {
      "cell_type": "markdown",
      "source": [
        "The output is saved to output"
      ],
      "metadata": {
        "id": "FtGLqXZ09ZU4"
      }
    },
    {
      "cell_type": "markdown",
      "source": [
        "Automate with SList"
      ],
      "metadata": {
        "id": "cZV8y_gJ9cxI"
      }
    },
    {
      "cell_type": "code",
      "source": [
        "# colect whitespace-separated fields\n",
        "ls = !ls -l */*.csv\n",
        "ls.fields(1,5)[1:3]"
      ],
      "metadata": {
        "colab": {
          "base_uri": "https://localhost:8080/"
        },
        "id": "mOg_vp98-frZ",
        "outputId": "7e960d78-3159-4729-d971-ef1096e75bf6"
      },
      "execution_count": 19,
      "outputs": [
        {
          "output_type": "execute_result",
          "data": {
            "text/plain": [
              "['1 Nov', '1 Nov']"
            ]
          },
          "metadata": {},
          "execution_count": 19
        }
      ]
    },
    {
      "cell_type": "code",
      "source": [
        "# grep like on the output of a shell command\n",
        "ls = !ls -l */*.csv\n",
        "ls.grep(\"california\")"
      ],
      "metadata": {
        "colab": {
          "base_uri": "https://localhost:8080/"
        },
        "id": "Vw2hPhzL_GkP",
        "outputId": "11dd3010-4d85-4c23-a636-3e2546b1a5bd"
      },
      "execution_count": 7,
      "outputs": [
        {
          "output_type": "execute_result",
          "data": {
            "text/plain": [
              "['-rw-r--r-- 1 root root   301141 Nov 17 14:32 sample_data/california_housing_test.csv',\n",
              " '-rw-r--r-- 1 root root  1706430 Nov 17 14:32 sample_data/california_housing_train.csv']"
            ]
          },
          "metadata": {},
          "execution_count": 7
        }
      ]
    },
    {
      "cell_type": "code",
      "source": [
        "# sort like on the output of a shell command\n",
        "disk_usage = !df -h\n",
        "disk_usage.sort(5, nums = True) # args: 1) which column to sort on, 2) sort by alphabetical or numerical values"
      ],
      "metadata": {
        "colab": {
          "base_uri": "https://localhost:8080/"
        },
        "id": "7OF1DKOQ_oV4",
        "outputId": "3fb98143-65ca-485e-ddfd-82f68412fa14"
      },
      "execution_count": 8,
      "outputs": [
        {
          "output_type": "execute_result",
          "data": {
            "text/plain": [
              "['/dev/root       2.0G  1.1G  910M  54% /sbin/docker-init',\n",
              " '/dev/sda1        41G   24G   17G  60% /etc/hosts',\n",
              " 'Filesystem      Size  Used Avail Use% Mounted on',\n",
              " 'overlay         108G   23G   86G  21% /',\n",
              " 'shm             5.8G     0  5.8G   0% /dev/shm',\n",
              " 'tmpfs            64M     0   64M   0% /dev',\n",
              " 'tmpfs           6.4G     0  6.4G   0% /proc/acpi',\n",
              " 'tmpfs           6.4G     0  6.4G   0% /proc/scsi',\n",
              " 'tmpfs           6.4G     0  6.4G   0% /sys/firmware',\n",
              " 'tmpfs           6.4G   40K  6.4G   1% /var/colab']"
            ]
          },
          "metadata": {},
          "execution_count": 8
        }
      ]
    },
    {
      "cell_type": "markdown",
      "source": [
        "### Convert ls to list and set"
      ],
      "metadata": {
        "id": "eZfketh8Au1W"
      }
    },
    {
      "cell_type": "code",
      "source": [
        "ls = !ls -l */*.csv\n",
        "list(ls)"
      ],
      "metadata": {
        "colab": {
          "base_uri": "https://localhost:8080/"
        },
        "id": "P7psxA8OAy77",
        "outputId": "ff2c5cfd-f09a-49f7-8d1a-4496303ff5a7"
      },
      "execution_count": 9,
      "outputs": [
        {
          "output_type": "execute_result",
          "data": {
            "text/plain": [
              "['-rw-r--r-- 1 root root   301141 Nov 17 14:32 sample_data/california_housing_test.csv',\n",
              " '-rw-r--r-- 1 root root  1706430 Nov 17 14:32 sample_data/california_housing_train.csv',\n",
              " '-rw-r--r-- 1 root root 18289443 Nov 17 14:32 sample_data/mnist_test.csv',\n",
              " '-rw-r--r-- 1 root root 36523880 Nov 17 14:32 sample_data/mnist_train_small.csv']"
            ]
          },
          "metadata": {},
          "execution_count": 9
        }
      ]
    },
    {
      "cell_type": "code",
      "source": [
        "ls = !ls -l */*.csv\n",
        "set(ls)"
      ],
      "metadata": {
        "colab": {
          "base_uri": "https://localhost:8080/"
        },
        "id": "_BUfZZPbA42p",
        "outputId": "73ecf993-1b10-494c-a4b0-4bbdb4ea1a3a"
      },
      "execution_count": 10,
      "outputs": [
        {
          "output_type": "execute_result",
          "data": {
            "text/plain": [
              "{'-rw-r--r-- 1 root root   301141 Nov 17 14:32 sample_data/california_housing_test.csv',\n",
              " '-rw-r--r-- 1 root root  1706430 Nov 17 14:32 sample_data/california_housing_train.csv',\n",
              " '-rw-r--r-- 1 root root 18289443 Nov 17 14:32 sample_data/mnist_test.csv',\n",
              " '-rw-r--r-- 1 root root 36523880 Nov 17 14:32 sample_data/mnist_train_small.csv'}"
            ]
          },
          "metadata": {},
          "execution_count": 10
        }
      ]
    }
  ]
}